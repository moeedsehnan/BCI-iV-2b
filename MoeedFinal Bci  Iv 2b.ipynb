{
 "cells": [
  {
   "cell_type": "code",
   "execution_count": 1,
   "metadata": {},
   "outputs": [],
   "source": [
    "import numpy as np\n",
    "import mne\n",
    "import matplotlib"
   ]
  },
  {
   "cell_type": "code",
   "execution_count": 53,
   "metadata": {},
   "outputs": [],
   "source": [
    "class BCICompetition4Set2B(object):\n",
    "    \n",
    "    def __init__(self, filename, load_sensor_names=None, labels_filename=None, feedback=True):\n",
    "       \n",
    "        assert load_sensor_names is None\n",
    "        self.__dict__.update(locals())\n",
    "        del self.self\n",
    "    \n",
    "    \n",
    "    def load(self):                            #main code\n",
    "        cnt = self.extract_data()               #load file replace nan with nanmean, return file with events...\n",
    "        events, artifact_trial_mask = self.extract_events(cnt)   \n",
    "        cnt.info[\"events\"] = events            #event  converted in Class1=left, Class2=right\n",
    "        cnt.info[\"artifact_trial_mask\"] = artifact_trial_mask  #get loccation of rejected  trails \n",
    "        return cnt\n",
    "    \n",
    "    def extract_data(self):\n",
    "        \n",
    "        raw_gdf = mne.io.read_raw_gdf(self.filename, stim_channel=\"auto\")\n",
    "        raw_gdf.load_data()\n",
    "        data = raw_gdf.get_data()\n",
    "\n",
    "        for i_chan in range(data.shape[0]):\n",
    "            # first set to nan, than replace nans by nanmean.\n",
    "            this_chan = data[i_chan]\n",
    "            data[i_chan] = np.where(\n",
    "                this_chan == np.min(this_chan), np.nan, this_chan\n",
    "            )\n",
    "            mask = np.isnan(data[i_chan])\n",
    "            chan_mean = np.nanmean(data[i_chan])\n",
    "            data[i_chan, mask] = chan_mean\n",
    "\n",
    "        \n",
    "        gdf_events = mne.events_from_annotations(raw_gdf)\n",
    "        raw_gdf = mne.io.RawArray(data, raw_gdf.info, verbose=\"WARNING\")\n",
    "      \n",
    "        raw_gdf.info[\"gdf_events\"] = gdf_events\n",
    "        return raw_gdf\n",
    "\n",
    "    def extract_events(self, raw_gdf):\n",
    "       \n",
    "        \n",
    "        events, name_to_code = raw_gdf.info[\"gdf_events\"]\n",
    "\n",
    "    \n",
    "        if not (\"783\" in name_to_code): #checking for cue unkown\n",
    "            train_set = True\n",
    "        else:\n",
    "            train_set = False\n",
    "            \n",
    "       \n",
    "        if train_set:\n",
    "            trial_codes = [name_to_code['769'],name_to_code['770']]  # the classes                \n",
    "        else:\n",
    "            trial_codes = [name_to_code['783']]  # Que unkown for  test cases.\n",
    "\n",
    "        \n",
    "        trial_mask = [ev_code in trial_codes for ev_code in events[:, 2]]\n",
    "        trial_events = events[trial_mask]\n",
    "        print(\"Got {:d} markers\".format(len(trial_events)))\n",
    "       \n",
    "        #change the position of  the classes  to   1  and  2.\n",
    "        trial_events[:, 2] = trial_events[:, 2] - name_to_code['768']   \n",
    "        \n",
    "        # now also create 0-1 vector for rejected trials\n",
    "            \n",
    "        trial_start_events = events[events[:, 2] == name_to_code['768']]\n",
    "        assert len(trial_start_events) == len(trial_events)\n",
    "        artifact_trial_mask = np.zeros(len(trial_events), dtype=np.uint8)\n",
    "        artifact_events = events[events[:, 2] == 1]\n",
    "        \n",
    "        for artifact_time in artifact_events[:, 0]:\n",
    "            i_trial = trial_start_events[:, 0].tolist().index(artifact_time)\n",
    "            artifact_trial_mask[i_trial] = 1\n",
    "\n",
    "        return trial_events, artifact_trial_mask\n",
    "        \n",
    "     "
   ]
  },
  {
   "cell_type": "code",
   "execution_count": 58,
   "metadata": {},
   "outputs": [
    {
     "name": "stdout",
     "output_type": "stream",
     "text": [
      "Extracting EDF parameters from C:\\Users\\adm\\moeedtesting\\b0103T.gdf...\n",
      "GDF file detected\n",
      "Setting channel info structure...\n",
      "Creating raw.info structure...\n",
      "Reading 0 ... 469010  =      0.000 ...  1876.040 secs...\n"
     ]
    },
    {
     "name": "stderr",
     "output_type": "stream",
     "text": [
      "C:\\Users\\adm\\anaconda3\\envs\\envpytorch\\lib\\site-packages\\mne\\io\\edf\\edf.py:1044: DeprecationWarning: The binary mode of fromstring is deprecated, as it behaves surprisingly on unicode inputs. Use frombuffer instead\n",
      "  etmode = np.fromstring(etmode, UINT8).tolist()[0]\n",
      "<ipython-input-53-d0f28357ec0f>:19: RuntimeWarning: Highpass cutoff frequency 100.0 is greater than lowpass cutoff frequency 0.5, setting values to 0 and Nyquist.\n",
      "  raw_gdf = mne.io.read_raw_gdf(self.filename, stim_channel=\"auto\")\n"
     ]
    },
    {
     "name": "stdout",
     "output_type": "stream",
     "text": [
      "Used Annotations descriptions: ['1023', '1077', '1078', '1079', '1081', '276', '277', '32766', '768', '769', '770', '781']\n",
      "Got 160 markers\n"
     ]
    }
   ],
   "source": [
    "fname = 'b0103T.gdf'\n",
    "raw = BCICompetition4Set2B(fname)\n",
    "fianl = raw.load()"
   ]
  }
 ],
 "metadata": {
  "kernelspec": {
   "display_name": "Python 3",
   "language": "python",
   "name": "python3"
  },
  "language_info": {
   "codemirror_mode": {
    "name": "ipython",
    "version": 3
   },
   "file_extension": ".py",
   "mimetype": "text/x-python",
   "name": "python",
   "nbconvert_exporter": "python",
   "pygments_lexer": "ipython3",
   "version": "3.8.5"
  }
 },
 "nbformat": 4,
 "nbformat_minor": 4
}
